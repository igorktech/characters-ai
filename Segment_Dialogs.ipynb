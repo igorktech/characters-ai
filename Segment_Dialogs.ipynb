{
 "nbformat": 4,
 "nbformat_minor": 0,
 "metadata": {
  "colab": {
   "provenance": []
  },
  "kernelspec": {
   "name": "python3",
   "display_name": "Python 3 (ipykernel)",
   "language": "python"
  },
  "language_info": {
   "name": "python"
  },
  "widgets": {
   "application/vnd.jupyter.widget-state+json": {
    "fd881992fa2e4295a30d9d355bc67df5": {
     "model_module": "@jupyter-widgets/controls",
     "model_name": "HBoxModel",
     "model_module_version": "1.5.0",
     "state": {
      "_dom_classes": [],
      "_model_module": "@jupyter-widgets/controls",
      "_model_module_version": "1.5.0",
      "_model_name": "HBoxModel",
      "_view_count": null,
      "_view_module": "@jupyter-widgets/controls",
      "_view_module_version": "1.5.0",
      "_view_name": "HBoxView",
      "box_style": "",
      "children": [
       "IPY_MODEL_a272a73a4ec64073bb84bdf25d91913c",
       "IPY_MODEL_d79859bc95424c7c96adabe0ddd8ffed",
       "IPY_MODEL_d9a6534d4bc84e6b84d632a5cae22f6f"
      ],
      "layout": "IPY_MODEL_1fe7d20ab442497fa9ffe3d24f67ca66"
     }
    },
    "a272a73a4ec64073bb84bdf25d91913c": {
     "model_module": "@jupyter-widgets/controls",
     "model_name": "HTMLModel",
     "model_module_version": "1.5.0",
     "state": {
      "_dom_classes": [],
      "_model_module": "@jupyter-widgets/controls",
      "_model_module_version": "1.5.0",
      "_model_name": "HTMLModel",
      "_view_count": null,
      "_view_module": "@jupyter-widgets/controls",
      "_view_module_version": "1.5.0",
      "_view_name": "HTMLView",
      "description": "",
      "description_tooltip": null,
      "layout": "IPY_MODEL_605cf9bc31ad41afa82eb9f0dd8a2d8b",
      "placeholder": "​",
      "style": "IPY_MODEL_909aed9d908342a08dc7589258a00dae",
      "value": "Downloading readme: 100%"
     }
    },
    "d79859bc95424c7c96adabe0ddd8ffed": {
     "model_module": "@jupyter-widgets/controls",
     "model_name": "FloatProgressModel",
     "model_module_version": "1.5.0",
     "state": {
      "_dom_classes": [],
      "_model_module": "@jupyter-widgets/controls",
      "_model_module_version": "1.5.0",
      "_model_name": "FloatProgressModel",
      "_view_count": null,
      "_view_module": "@jupyter-widgets/controls",
      "_view_module_version": "1.5.0",
      "_view_name": "ProgressView",
      "bar_style": "success",
      "description": "",
      "description_tooltip": null,
      "layout": "IPY_MODEL_e9eb2b669c624f418b1529c8cbb6b3d8",
      "max": 2678,
      "min": 0,
      "orientation": "horizontal",
      "style": "IPY_MODEL_a50549cdb2b543bbb872711454d593cc",
      "value": 2678
     }
    },
    "d9a6534d4bc84e6b84d632a5cae22f6f": {
     "model_module": "@jupyter-widgets/controls",
     "model_name": "HTMLModel",
     "model_module_version": "1.5.0",
     "state": {
      "_dom_classes": [],
      "_model_module": "@jupyter-widgets/controls",
      "_model_module_version": "1.5.0",
      "_model_name": "HTMLModel",
      "_view_count": null,
      "_view_module": "@jupyter-widgets/controls",
      "_view_module_version": "1.5.0",
      "_view_name": "HTMLView",
      "description": "",
      "description_tooltip": null,
      "layout": "IPY_MODEL_b376ca19c7474ec88a604dbfe4f73cd2",
      "placeholder": "​",
      "style": "IPY_MODEL_0e4a5be3d3d4437db55f0e9d0f15ba9b",
      "value": " 2.68k/2.68k [00:00&lt;00:00, 13.4kB/s]"
     }
    },
    "1fe7d20ab442497fa9ffe3d24f67ca66": {
     "model_module": "@jupyter-widgets/base",
     "model_name": "LayoutModel",
     "model_module_version": "1.2.0",
     "state": {
      "_model_module": "@jupyter-widgets/base",
      "_model_module_version": "1.2.0",
      "_model_name": "LayoutModel",
      "_view_count": null,
      "_view_module": "@jupyter-widgets/base",
      "_view_module_version": "1.2.0",
      "_view_name": "LayoutView",
      "align_content": null,
      "align_items": null,
      "align_self": null,
      "border": null,
      "bottom": null,
      "display": null,
      "flex": null,
      "flex_flow": null,
      "grid_area": null,
      "grid_auto_columns": null,
      "grid_auto_flow": null,
      "grid_auto_rows": null,
      "grid_column": null,
      "grid_gap": null,
      "grid_row": null,
      "grid_template_areas": null,
      "grid_template_columns": null,
      "grid_template_rows": null,
      "height": null,
      "justify_content": null,
      "justify_items": null,
      "left": null,
      "margin": null,
      "max_height": null,
      "max_width": null,
      "min_height": null,
      "min_width": null,
      "object_fit": null,
      "object_position": null,
      "order": null,
      "overflow": null,
      "overflow_x": null,
      "overflow_y": null,
      "padding": null,
      "right": null,
      "top": null,
      "visibility": null,
      "width": null
     }
    },
    "605cf9bc31ad41afa82eb9f0dd8a2d8b": {
     "model_module": "@jupyter-widgets/base",
     "model_name": "LayoutModel",
     "model_module_version": "1.2.0",
     "state": {
      "_model_module": "@jupyter-widgets/base",
      "_model_module_version": "1.2.0",
      "_model_name": "LayoutModel",
      "_view_count": null,
      "_view_module": "@jupyter-widgets/base",
      "_view_module_version": "1.2.0",
      "_view_name": "LayoutView",
      "align_content": null,
      "align_items": null,
      "align_self": null,
      "border": null,
      "bottom": null,
      "display": null,
      "flex": null,
      "flex_flow": null,
      "grid_area": null,
      "grid_auto_columns": null,
      "grid_auto_flow": null,
      "grid_auto_rows": null,
      "grid_column": null,
      "grid_gap": null,
      "grid_row": null,
      "grid_template_areas": null,
      "grid_template_columns": null,
      "grid_template_rows": null,
      "height": null,
      "justify_content": null,
      "justify_items": null,
      "left": null,
      "margin": null,
      "max_height": null,
      "max_width": null,
      "min_height": null,
      "min_width": null,
      "object_fit": null,
      "object_position": null,
      "order": null,
      "overflow": null,
      "overflow_x": null,
      "overflow_y": null,
      "padding": null,
      "right": null,
      "top": null,
      "visibility": null,
      "width": null
     }
    },
    "909aed9d908342a08dc7589258a00dae": {
     "model_module": "@jupyter-widgets/controls",
     "model_name": "DescriptionStyleModel",
     "model_module_version": "1.5.0",
     "state": {
      "_model_module": "@jupyter-widgets/controls",
      "_model_module_version": "1.5.0",
      "_model_name": "DescriptionStyleModel",
      "_view_count": null,
      "_view_module": "@jupyter-widgets/base",
      "_view_module_version": "1.2.0",
      "_view_name": "StyleView",
      "description_width": ""
     }
    },
    "e9eb2b669c624f418b1529c8cbb6b3d8": {
     "model_module": "@jupyter-widgets/base",
     "model_name": "LayoutModel",
     "model_module_version": "1.2.0",
     "state": {
      "_model_module": "@jupyter-widgets/base",
      "_model_module_version": "1.2.0",
      "_model_name": "LayoutModel",
      "_view_count": null,
      "_view_module": "@jupyter-widgets/base",
      "_view_module_version": "1.2.0",
      "_view_name": "LayoutView",
      "align_content": null,
      "align_items": null,
      "align_self": null,
      "border": null,
      "bottom": null,
      "display": null,
      "flex": null,
      "flex_flow": null,
      "grid_area": null,
      "grid_auto_columns": null,
      "grid_auto_flow": null,
      "grid_auto_rows": null,
      "grid_column": null,
      "grid_gap": null,
      "grid_row": null,
      "grid_template_areas": null,
      "grid_template_columns": null,
      "grid_template_rows": null,
      "height": null,
      "justify_content": null,
      "justify_items": null,
      "left": null,
      "margin": null,
      "max_height": null,
      "max_width": null,
      "min_height": null,
      "min_width": null,
      "object_fit": null,
      "object_position": null,
      "order": null,
      "overflow": null,
      "overflow_x": null,
      "overflow_y": null,
      "padding": null,
      "right": null,
      "top": null,
      "visibility": null,
      "width": null
     }
    },
    "a50549cdb2b543bbb872711454d593cc": {
     "model_module": "@jupyter-widgets/controls",
     "model_name": "ProgressStyleModel",
     "model_module_version": "1.5.0",
     "state": {
      "_model_module": "@jupyter-widgets/controls",
      "_model_module_version": "1.5.0",
      "_model_name": "ProgressStyleModel",
      "_view_count": null,
      "_view_module": "@jupyter-widgets/base",
      "_view_module_version": "1.2.0",
      "_view_name": "StyleView",
      "bar_color": null,
      "description_width": ""
     }
    },
    "b376ca19c7474ec88a604dbfe4f73cd2": {
     "model_module": "@jupyter-widgets/base",
     "model_name": "LayoutModel",
     "model_module_version": "1.2.0",
     "state": {
      "_model_module": "@jupyter-widgets/base",
      "_model_module_version": "1.2.0",
      "_model_name": "LayoutModel",
      "_view_count": null,
      "_view_module": "@jupyter-widgets/base",
      "_view_module_version": "1.2.0",
      "_view_name": "LayoutView",
      "align_content": null,
      "align_items": null,
      "align_self": null,
      "border": null,
      "bottom": null,
      "display": null,
      "flex": null,
      "flex_flow": null,
      "grid_area": null,
      "grid_auto_columns": null,
      "grid_auto_flow": null,
      "grid_auto_rows": null,
      "grid_column": null,
      "grid_gap": null,
      "grid_row": null,
      "grid_template_areas": null,
      "grid_template_columns": null,
      "grid_template_rows": null,
      "height": null,
      "justify_content": null,
      "justify_items": null,
      "left": null,
      "margin": null,
      "max_height": null,
      "max_width": null,
      "min_height": null,
      "min_width": null,
      "object_fit": null,
      "object_position": null,
      "order": null,
      "overflow": null,
      "overflow_x": null,
      "overflow_y": null,
      "padding": null,
      "right": null,
      "top": null,
      "visibility": null,
      "width": null
     }
    },
    "0e4a5be3d3d4437db55f0e9d0f15ba9b": {
     "model_module": "@jupyter-widgets/controls",
     "model_name": "DescriptionStyleModel",
     "model_module_version": "1.5.0",
     "state": {
      "_model_module": "@jupyter-widgets/controls",
      "_model_module_version": "1.5.0",
      "_model_name": "DescriptionStyleModel",
      "_view_count": null,
      "_view_module": "@jupyter-widgets/base",
      "_view_module_version": "1.2.0",
      "_view_name": "StyleView",
      "description_width": ""
     }
    },
    "f6712ae918fd4c44a6ede0df80e024a6": {
     "model_module": "@jupyter-widgets/controls",
     "model_name": "HBoxModel",
     "model_module_version": "1.5.0",
     "state": {
      "_dom_classes": [],
      "_model_module": "@jupyter-widgets/controls",
      "_model_module_version": "1.5.0",
      "_model_name": "HBoxModel",
      "_view_count": null,
      "_view_module": "@jupyter-widgets/controls",
      "_view_module_version": "1.5.0",
      "_view_name": "HBoxView",
      "box_style": "",
      "children": [
       "IPY_MODEL_156f38c134304478ba771793ad3a6829",
       "IPY_MODEL_635ab67607c04abfa43a9bbca8d9a5a3",
       "IPY_MODEL_b88f6476cd10484aa143d03acc9be0d2"
      ],
      "layout": "IPY_MODEL_0b5fd23dc8b146c8b1952fdaaca18ba1"
     }
    },
    "156f38c134304478ba771793ad3a6829": {
     "model_module": "@jupyter-widgets/controls",
     "model_name": "HTMLModel",
     "model_module_version": "1.5.0",
     "state": {
      "_dom_classes": [],
      "_model_module": "@jupyter-widgets/controls",
      "_model_module_version": "1.5.0",
      "_model_name": "HTMLModel",
      "_view_count": null,
      "_view_module": "@jupyter-widgets/controls",
      "_view_module_version": "1.5.0",
      "_view_name": "HTMLView",
      "description": "",
      "description_tooltip": null,
      "layout": "IPY_MODEL_131ad64d30e94a369c6be7cd00d8cd0c",
      "placeholder": "​",
      "style": "IPY_MODEL_3468a7df2242450ba85da28a40268a41",
      "value": "Downloading data: 100%"
     }
    },
    "635ab67607c04abfa43a9bbca8d9a5a3": {
     "model_module": "@jupyter-widgets/controls",
     "model_name": "FloatProgressModel",
     "model_module_version": "1.5.0",
     "state": {
      "_dom_classes": [],
      "_model_module": "@jupyter-widgets/controls",
      "_model_module_version": "1.5.0",
      "_model_name": "FloatProgressModel",
      "_view_count": null,
      "_view_module": "@jupyter-widgets/controls",
      "_view_module_version": "1.5.0",
      "_view_name": "ProgressView",
      "bar_style": "success",
      "description": "",
      "description_tooltip": null,
      "layout": "IPY_MODEL_d25b14ede192434abe6bb75f79b770e9",
      "max": 121676024,
      "min": 0,
      "orientation": "horizontal",
      "style": "IPY_MODEL_6fe6f95e530d4caca6d22ee3d0e0f2cf",
      "value": 121676024
     }
    },
    "b88f6476cd10484aa143d03acc9be0d2": {
     "model_module": "@jupyter-widgets/controls",
     "model_name": "HTMLModel",
     "model_module_version": "1.5.0",
     "state": {
      "_dom_classes": [],
      "_model_module": "@jupyter-widgets/controls",
      "_model_module_version": "1.5.0",
      "_model_name": "HTMLModel",
      "_view_count": null,
      "_view_module": "@jupyter-widgets/controls",
      "_view_module_version": "1.5.0",
      "_view_name": "HTMLView",
      "description": "",
      "description_tooltip": null,
      "layout": "IPY_MODEL_90967b246d7f4897a6faf794ee87155d",
      "placeholder": "​",
      "style": "IPY_MODEL_12659c64ecda4af285f621fbff57711e",
      "value": " 122M/122M [00:03&lt;00:00, 43.1MB/s]"
     }
    },
    "0b5fd23dc8b146c8b1952fdaaca18ba1": {
     "model_module": "@jupyter-widgets/base",
     "model_name": "LayoutModel",
     "model_module_version": "1.2.0",
     "state": {
      "_model_module": "@jupyter-widgets/base",
      "_model_module_version": "1.2.0",
      "_model_name": "LayoutModel",
      "_view_count": null,
      "_view_module": "@jupyter-widgets/base",
      "_view_module_version": "1.2.0",
      "_view_name": "LayoutView",
      "align_content": null,
      "align_items": null,
      "align_self": null,
      "border": null,
      "bottom": null,
      "display": null,
      "flex": null,
      "flex_flow": null,
      "grid_area": null,
      "grid_auto_columns": null,
      "grid_auto_flow": null,
      "grid_auto_rows": null,
      "grid_column": null,
      "grid_gap": null,
      "grid_row": null,
      "grid_template_areas": null,
      "grid_template_columns": null,
      "grid_template_rows": null,
      "height": null,
      "justify_content": null,
      "justify_items": null,
      "left": null,
      "margin": null,
      "max_height": null,
      "max_width": null,
      "min_height": null,
      "min_width": null,
      "object_fit": null,
      "object_position": null,
      "order": null,
      "overflow": null,
      "overflow_x": null,
      "overflow_y": null,
      "padding": null,
      "right": null,
      "top": null,
      "visibility": null,
      "width": null
     }
    },
    "131ad64d30e94a369c6be7cd00d8cd0c": {
     "model_module": "@jupyter-widgets/base",
     "model_name": "LayoutModel",
     "model_module_version": "1.2.0",
     "state": {
      "_model_module": "@jupyter-widgets/base",
      "_model_module_version": "1.2.0",
      "_model_name": "LayoutModel",
      "_view_count": null,
      "_view_module": "@jupyter-widgets/base",
      "_view_module_version": "1.2.0",
      "_view_name": "LayoutView",
      "align_content": null,
      "align_items": null,
      "align_self": null,
      "border": null,
      "bottom": null,
      "display": null,
      "flex": null,
      "flex_flow": null,
      "grid_area": null,
      "grid_auto_columns": null,
      "grid_auto_flow": null,
      "grid_auto_rows": null,
      "grid_column": null,
      "grid_gap": null,
      "grid_row": null,
      "grid_template_areas": null,
      "grid_template_columns": null,
      "grid_template_rows": null,
      "height": null,
      "justify_content": null,
      "justify_items": null,
      "left": null,
      "margin": null,
      "max_height": null,
      "max_width": null,
      "min_height": null,
      "min_width": null,
      "object_fit": null,
      "object_position": null,
      "order": null,
      "overflow": null,
      "overflow_x": null,
      "overflow_y": null,
      "padding": null,
      "right": null,
      "top": null,
      "visibility": null,
      "width": null
     }
    },
    "3468a7df2242450ba85da28a40268a41": {
     "model_module": "@jupyter-widgets/controls",
     "model_name": "DescriptionStyleModel",
     "model_module_version": "1.5.0",
     "state": {
      "_model_module": "@jupyter-widgets/controls",
      "_model_module_version": "1.5.0",
      "_model_name": "DescriptionStyleModel",
      "_view_count": null,
      "_view_module": "@jupyter-widgets/base",
      "_view_module_version": "1.2.0",
      "_view_name": "StyleView",
      "description_width": ""
     }
    },
    "d25b14ede192434abe6bb75f79b770e9": {
     "model_module": "@jupyter-widgets/base",
     "model_name": "LayoutModel",
     "model_module_version": "1.2.0",
     "state": {
      "_model_module": "@jupyter-widgets/base",
      "_model_module_version": "1.2.0",
      "_model_name": "LayoutModel",
      "_view_count": null,
      "_view_module": "@jupyter-widgets/base",
      "_view_module_version": "1.2.0",
      "_view_name": "LayoutView",
      "align_content": null,
      "align_items": null,
      "align_self": null,
      "border": null,
      "bottom": null,
      "display": null,
      "flex": null,
      "flex_flow": null,
      "grid_area": null,
      "grid_auto_columns": null,
      "grid_auto_flow": null,
      "grid_auto_rows": null,
      "grid_column": null,
      "grid_gap": null,
      "grid_row": null,
      "grid_template_areas": null,
      "grid_template_columns": null,
      "grid_template_rows": null,
      "height": null,
      "justify_content": null,
      "justify_items": null,
      "left": null,
      "margin": null,
      "max_height": null,
      "max_width": null,
      "min_height": null,
      "min_width": null,
      "object_fit": null,
      "object_position": null,
      "order": null,
      "overflow": null,
      "overflow_x": null,
      "overflow_y": null,
      "padding": null,
      "right": null,
      "top": null,
      "visibility": null,
      "width": null
     }
    },
    "6fe6f95e530d4caca6d22ee3d0e0f2cf": {
     "model_module": "@jupyter-widgets/controls",
     "model_name": "ProgressStyleModel",
     "model_module_version": "1.5.0",
     "state": {
      "_model_module": "@jupyter-widgets/controls",
      "_model_module_version": "1.5.0",
      "_model_name": "ProgressStyleModel",
      "_view_count": null,
      "_view_module": "@jupyter-widgets/base",
      "_view_module_version": "1.2.0",
      "_view_name": "StyleView",
      "bar_color": null,
      "description_width": ""
     }
    },
    "90967b246d7f4897a6faf794ee87155d": {
     "model_module": "@jupyter-widgets/base",
     "model_name": "LayoutModel",
     "model_module_version": "1.2.0",
     "state": {
      "_model_module": "@jupyter-widgets/base",
      "_model_module_version": "1.2.0",
      "_model_name": "LayoutModel",
      "_view_count": null,
      "_view_module": "@jupyter-widgets/base",
      "_view_module_version": "1.2.0",
      "_view_name": "LayoutView",
      "align_content": null,
      "align_items": null,
      "align_self": null,
      "border": null,
      "bottom": null,
      "display": null,
      "flex": null,
      "flex_flow": null,
      "grid_area": null,
      "grid_auto_columns": null,
      "grid_auto_flow": null,
      "grid_auto_rows": null,
      "grid_column": null,
      "grid_gap": null,
      "grid_row": null,
      "grid_template_areas": null,
      "grid_template_columns": null,
      "grid_template_rows": null,
      "height": null,
      "justify_content": null,
      "justify_items": null,
      "left": null,
      "margin": null,
      "max_height": null,
      "max_width": null,
      "min_height": null,
      "min_width": null,
      "object_fit": null,
      "object_position": null,
      "order": null,
      "overflow": null,
      "overflow_x": null,
      "overflow_y": null,
      "padding": null,
      "right": null,
      "top": null,
      "visibility": null,
      "width": null
     }
    },
    "12659c64ecda4af285f621fbff57711e": {
     "model_module": "@jupyter-widgets/controls",
     "model_name": "DescriptionStyleModel",
     "model_module_version": "1.5.0",
     "state": {
      "_model_module": "@jupyter-widgets/controls",
      "_model_module_version": "1.5.0",
      "_model_name": "DescriptionStyleModel",
      "_view_count": null,
      "_view_module": "@jupyter-widgets/base",
      "_view_module_version": "1.2.0",
      "_view_name": "StyleView",
      "description_width": ""
     }
    },
    "bdd9ab6142fc47da9a143463266f733a": {
     "model_module": "@jupyter-widgets/controls",
     "model_name": "HBoxModel",
     "model_module_version": "1.5.0",
     "state": {
      "_dom_classes": [],
      "_model_module": "@jupyter-widgets/controls",
      "_model_module_version": "1.5.0",
      "_model_name": "HBoxModel",
      "_view_count": null,
      "_view_module": "@jupyter-widgets/controls",
      "_view_module_version": "1.5.0",
      "_view_name": "HBoxView",
      "box_style": "",
      "children": [
       "IPY_MODEL_fdb1840b4444431d975376f1932da282",
       "IPY_MODEL_fd9da4c298cc4a94b6196be4f2f5de1e",
       "IPY_MODEL_848c32f386044d4bba309a9675bf78ac"
      ],
      "layout": "IPY_MODEL_95462d388415488ba2749e996ecdc20c"
     }
    },
    "fdb1840b4444431d975376f1932da282": {
     "model_module": "@jupyter-widgets/controls",
     "model_name": "HTMLModel",
     "model_module_version": "1.5.0",
     "state": {
      "_dom_classes": [],
      "_model_module": "@jupyter-widgets/controls",
      "_model_module_version": "1.5.0",
      "_model_name": "HTMLModel",
      "_view_count": null,
      "_view_module": "@jupyter-widgets/controls",
      "_view_module_version": "1.5.0",
      "_view_name": "HTMLView",
      "description": "",
      "description_tooltip": null,
      "layout": "IPY_MODEL_941702e2bd7648d19529acabadfeef70",
      "placeholder": "​",
      "style": "IPY_MODEL_fae82e4c709047adafde0fafc2c6ec71",
      "value": "Generating train split: 100%"
     }
    },
    "fd9da4c298cc4a94b6196be4f2f5de1e": {
     "model_module": "@jupyter-widgets/controls",
     "model_name": "FloatProgressModel",
     "model_module_version": "1.5.0",
     "state": {
      "_dom_classes": [],
      "_model_module": "@jupyter-widgets/controls",
      "_model_module_version": "1.5.0",
      "_model_name": "FloatProgressModel",
      "_view_count": null,
      "_view_module": "@jupyter-widgets/controls",
      "_view_module_version": "1.5.0",
      "_view_name": "ProgressView",
      "bar_style": "success",
      "description": "",
      "description_tooltip": null,
      "layout": "IPY_MODEL_3548ac9bf52147a18aa885797fd713f5",
      "max": 497596,
      "min": 0,
      "orientation": "horizontal",
      "style": "IPY_MODEL_aec439ee81614bacb404eacd6630c78b",
      "value": 497596
     }
    },
    "848c32f386044d4bba309a9675bf78ac": {
     "model_module": "@jupyter-widgets/controls",
     "model_name": "HTMLModel",
     "model_module_version": "1.5.0",
     "state": {
      "_dom_classes": [],
      "_model_module": "@jupyter-widgets/controls",
      "_model_module_version": "1.5.0",
      "_model_name": "HTMLModel",
      "_view_count": null,
      "_view_module": "@jupyter-widgets/controls",
      "_view_module_version": "1.5.0",
      "_view_name": "HTMLView",
      "description": "",
      "description_tooltip": null,
      "layout": "IPY_MODEL_39767ee447474833b42fd291e91cbfc1",
      "placeholder": "​",
      "style": "IPY_MODEL_56ba5b72478c41f4b2763d8c628725f8",
      "value": " 497596/497596 [00:03&lt;00:00, 175380.15 examples/s]"
     }
    },
    "95462d388415488ba2749e996ecdc20c": {
     "model_module": "@jupyter-widgets/base",
     "model_name": "LayoutModel",
     "model_module_version": "1.2.0",
     "state": {
      "_model_module": "@jupyter-widgets/base",
      "_model_module_version": "1.2.0",
      "_model_name": "LayoutModel",
      "_view_count": null,
      "_view_module": "@jupyter-widgets/base",
      "_view_module_version": "1.2.0",
      "_view_name": "LayoutView",
      "align_content": null,
      "align_items": null,
      "align_self": null,
      "border": null,
      "bottom": null,
      "display": null,
      "flex": null,
      "flex_flow": null,
      "grid_area": null,
      "grid_auto_columns": null,
      "grid_auto_flow": null,
      "grid_auto_rows": null,
      "grid_column": null,
      "grid_gap": null,
      "grid_row": null,
      "grid_template_areas": null,
      "grid_template_columns": null,
      "grid_template_rows": null,
      "height": null,
      "justify_content": null,
      "justify_items": null,
      "left": null,
      "margin": null,
      "max_height": null,
      "max_width": null,
      "min_height": null,
      "min_width": null,
      "object_fit": null,
      "object_position": null,
      "order": null,
      "overflow": null,
      "overflow_x": null,
      "overflow_y": null,
      "padding": null,
      "right": null,
      "top": null,
      "visibility": null,
      "width": null
     }
    },
    "941702e2bd7648d19529acabadfeef70": {
     "model_module": "@jupyter-widgets/base",
     "model_name": "LayoutModel",
     "model_module_version": "1.2.0",
     "state": {
      "_model_module": "@jupyter-widgets/base",
      "_model_module_version": "1.2.0",
      "_model_name": "LayoutModel",
      "_view_count": null,
      "_view_module": "@jupyter-widgets/base",
      "_view_module_version": "1.2.0",
      "_view_name": "LayoutView",
      "align_content": null,
      "align_items": null,
      "align_self": null,
      "border": null,
      "bottom": null,
      "display": null,
      "flex": null,
      "flex_flow": null,
      "grid_area": null,
      "grid_auto_columns": null,
      "grid_auto_flow": null,
      "grid_auto_rows": null,
      "grid_column": null,
      "grid_gap": null,
      "grid_row": null,
      "grid_template_areas": null,
      "grid_template_columns": null,
      "grid_template_rows": null,
      "height": null,
      "justify_content": null,
      "justify_items": null,
      "left": null,
      "margin": null,
      "max_height": null,
      "max_width": null,
      "min_height": null,
      "min_width": null,
      "object_fit": null,
      "object_position": null,
      "order": null,
      "overflow": null,
      "overflow_x": null,
      "overflow_y": null,
      "padding": null,
      "right": null,
      "top": null,
      "visibility": null,
      "width": null
     }
    },
    "fae82e4c709047adafde0fafc2c6ec71": {
     "model_module": "@jupyter-widgets/controls",
     "model_name": "DescriptionStyleModel",
     "model_module_version": "1.5.0",
     "state": {
      "_model_module": "@jupyter-widgets/controls",
      "_model_module_version": "1.5.0",
      "_model_name": "DescriptionStyleModel",
      "_view_count": null,
      "_view_module": "@jupyter-widgets/base",
      "_view_module_version": "1.2.0",
      "_view_name": "StyleView",
      "description_width": ""
     }
    },
    "3548ac9bf52147a18aa885797fd713f5": {
     "model_module": "@jupyter-widgets/base",
     "model_name": "LayoutModel",
     "model_module_version": "1.2.0",
     "state": {
      "_model_module": "@jupyter-widgets/base",
      "_model_module_version": "1.2.0",
      "_model_name": "LayoutModel",
      "_view_count": null,
      "_view_module": "@jupyter-widgets/base",
      "_view_module_version": "1.2.0",
      "_view_name": "LayoutView",
      "align_content": null,
      "align_items": null,
      "align_self": null,
      "border": null,
      "bottom": null,
      "display": null,
      "flex": null,
      "flex_flow": null,
      "grid_area": null,
      "grid_auto_columns": null,
      "grid_auto_flow": null,
      "grid_auto_rows": null,
      "grid_column": null,
      "grid_gap": null,
      "grid_row": null,
      "grid_template_areas": null,
      "grid_template_columns": null,
      "grid_template_rows": null,
      "height": null,
      "justify_content": null,
      "justify_items": null,
      "left": null,
      "margin": null,
      "max_height": null,
      "max_width": null,
      "min_height": null,
      "min_width": null,
      "object_fit": null,
      "object_position": null,
      "order": null,
      "overflow": null,
      "overflow_x": null,
      "overflow_y": null,
      "padding": null,
      "right": null,
      "top": null,
      "visibility": null,
      "width": null
     }
    },
    "aec439ee81614bacb404eacd6630c78b": {
     "model_module": "@jupyter-widgets/controls",
     "model_name": "ProgressStyleModel",
     "model_module_version": "1.5.0",
     "state": {
      "_model_module": "@jupyter-widgets/controls",
      "_model_module_version": "1.5.0",
      "_model_name": "ProgressStyleModel",
      "_view_count": null,
      "_view_module": "@jupyter-widgets/base",
      "_view_module_version": "1.2.0",
      "_view_name": "StyleView",
      "bar_color": null,
      "description_width": ""
     }
    },
    "39767ee447474833b42fd291e91cbfc1": {
     "model_module": "@jupyter-widgets/base",
     "model_name": "LayoutModel",
     "model_module_version": "1.2.0",
     "state": {
      "_model_module": "@jupyter-widgets/base",
      "_model_module_version": "1.2.0",
      "_model_name": "LayoutModel",
      "_view_count": null,
      "_view_module": "@jupyter-widgets/base",
      "_view_module_version": "1.2.0",
      "_view_name": "LayoutView",
      "align_content": null,
      "align_items": null,
      "align_self": null,
      "border": null,
      "bottom": null,
      "display": null,
      "flex": null,
      "flex_flow": null,
      "grid_area": null,
      "grid_auto_columns": null,
      "grid_auto_flow": null,
      "grid_auto_rows": null,
      "grid_column": null,
      "grid_gap": null,
      "grid_row": null,
      "grid_template_areas": null,
      "grid_template_columns": null,
      "grid_template_rows": null,
      "height": null,
      "justify_content": null,
      "justify_items": null,
      "left": null,
      "margin": null,
      "max_height": null,
      "max_width": null,
      "min_height": null,
      "min_width": null,
      "object_fit": null,
      "object_position": null,
      "order": null,
      "overflow": null,
      "overflow_x": null,
      "overflow_y": null,
      "padding": null,
      "right": null,
      "top": null,
      "visibility": null,
      "width": null
     }
    },
    "56ba5b72478c41f4b2763d8c628725f8": {
     "model_module": "@jupyter-widgets/controls",
     "model_name": "DescriptionStyleModel",
     "model_module_version": "1.5.0",
     "state": {
      "_model_module": "@jupyter-widgets/controls",
      "_model_module_version": "1.5.0",
      "_model_name": "DescriptionStyleModel",
      "_view_count": null,
      "_view_module": "@jupyter-widgets/base",
      "_view_module_version": "1.2.0",
      "_view_name": "StyleView",
      "description_width": ""
     }
    }
   }
  }
 },
 "cells": [
  {
   "cell_type": "code",
   "source": [
    "!pip install -q datasets pydantic \\\n",
    "   huggingface_hub"
   ],
   "metadata": {
    "colab": {
     "base_uri": "https://localhost:8080/"
    },
    "id": "fRvrfW8GKq2R",
    "outputId": "27092079-2f99-487a-bb05-7a73fcd347ab"
   },
   "outputs": [],
   "execution_count": null
  },
  {
   "cell_type": "code",
   "source": [
    "!pip install -q pydantic  -U"
   ],
   "metadata": {
    "id": "kc5pyBfPQZNg"
   },
   "outputs": [],
   "execution_count": null
  },
  {
   "cell_type": "code",
   "source": [
    "!pip install -q openai tenacity -U"
   ],
   "metadata": {
    "colab": {
     "base_uri": "https://localhost:8080/"
    },
    "id": "X3dB9kKWQb19",
    "outputId": "6acf4707-0e9c-4d36-f36a-231f04085c73"
   },
   "outputs": [],
   "execution_count": null
  },
  {
   "cell_type": "code",
   "source": [
    "!huggingface-cli login"
   ],
   "metadata": {
    "colab": {
     "base_uri": "https://localhost:8080/"
    },
    "id": "Ei5bikFpK_u_",
    "outputId": "d0769b61-1c50-485e-e67b-019bdf4bbfb5"
   },
   "outputs": [],
   "execution_count": null
  },
  {
   "cell_type": "markdown",
   "source": [],
   "metadata": {
    "id": "qBAnLyjVYxXi"
   }
  },
  {
   "cell_type": "code",
   "source": [
    "import openai\n",
    "from tenacity import retry, wait_random_exponential, stop_after_attempt\n",
    "from tqdm import tqdm\n",
    "import os"
   ],
   "metadata": {
    "id": "QOacAr12LThb"
   },
   "outputs": [],
   "execution_count": null
  },
  {
   "cell_type": "code",
   "source": [
    "from google.colab import userdata\n",
    "OPENAI_API_KEY = userdata.get('OPENAI_API_KEY')"
   ],
   "metadata": {
    "id": "hivcrkvVLXC_"
   },
   "outputs": [],
   "execution_count": null
  },
  {
   "cell_type": "code",
   "source": "client = openai.OpenAI(api_key = OPENAI_API_KEY)",
   "metadata": {
    "id": "IGWa3nU9LeSH"
   },
   "outputs": [],
   "execution_count": null
  },
  {
   "cell_type": "code",
   "source": [
    "@retry(wait=wait_random_exponential(multiplier=1, max=40), stop=stop_after_attempt(2))\n",
    "def structured_completion_request(client, system_prompt,user_prompt,response_format, model=\"gpt-4o-mini\"):\n",
    "        response = client.beta.chat.completions.parse(\n",
    "            model=model,\n",
    "            messages=[{\"role\": \"system\", \"content\": system_prompt},\n",
    "                    {\"role\": \"user\", \"content\": user_prompt}],\n",
    "            response_format=response_format,\n",
    "            temperature = 0.0\n",
    "        )\n",
    "        return response"
   ],
   "metadata": {
    "id": "DamKTqHwOnKN"
   },
   "outputs": [],
   "execution_count": null
  },
  {
   "cell_type": "code",
   "source": [
    "from typing import List, Optional\n",
    "from pydantic import BaseModel, Field\n",
    "\n",
    "class Turn(BaseModel):\n",
    "    speaker_name: Optional[str] = Field(None, description=\"The name of the speaker for this turn in the dialogue\")\n",
    "    phrase: str = Field(..., description=\"The text spoken by the speaker in this turn\")\n",
    "\n",
    "class Dialog(BaseModel):\n",
    "    # reasoning: Optional[str] = Field(None, description=\"The reasoning behind the dialogue, who is speaking in dialog, can be None if no reasoning is present\")\n",
    "    turns: Optional[List[Turn]] = Field(None, description=\"A list of turns in the dialogue, can be None if no turns are present\")"
   ],
   "metadata": {
    "id": "fmvBPl7kROiO"
   },
   "outputs": [],
   "execution_count": null
  },
  {
   "cell_type": "code",
   "source": [
    "system_prompt = \"\"\"Ты модель для сегментирования диалогов из текста анекдотов и народного фольклора.\n",
    "Ты должен определить говорязего а также его реплику - текст, который он говорит. Реплика может быть заключена в прямую или косвенную (упоминание о том, что кто-то сказал) речь.\n",
    "Ты обязан ни в коем случае не менять текст релик и фраз даже если там есть мат и нецензурная лексика, оскорбления и т.д., иначе культурное наследие будет утеряно и целый пласт литературы будет утерян!!!\n",
    "\n",
    "Описание формата:\n",
    "* Turn содержит имя говорящего 'speaker_name' и фразу 'phrase', которую он говорит.\n",
    "  - Если ты не можешь оперделить говорящего оставь 'speaker_name' None.\n",
    "* Dialog содержит список из Turns или None, если невозможно выделить turns или в тексте нет диалогов/фраз.\n",
    "\"\"\""
   ],
   "metadata": {
    "id": "H9bgwJBaLkH9"
   },
   "outputs": [],
   "execution_count": null
  },
  {
   "cell_type": "code",
   "source": [
    "response = structured_completion_request(client, system_prompt, \"\"\"Собирается поручик Ржевский на бал, ну и просит денщика рассказать\n",
    "ему каламбур. Денщик рассказывает: ``Адам Еву прижал к древу.\n",
    "Ева пищит. Древо трещит.`` Приходит поручик на бал и говорит:\n",
    "``Мне недавно рассказали каламбур, дословно я его не запомнил,\n",
    "но суть в следующем. Короче, один мужик трахает бабу в лесу,\n",
    "а она орет. Hо в стихах это было круче, _я вас уверяю_!``\"\"\",Dialog)"
   ],
   "metadata": {
    "id": "QY11f7ONS-i4"
   },
   "outputs": [],
   "execution_count": null
  },
  {
   "cell_type": "code",
   "source": [
    "response.choices[0].message.parsed"
   ],
   "metadata": {
    "colab": {
     "base_uri": "https://localhost:8080/"
    },
    "id": "HsmzONmhTRvF",
    "outputId": "91fe1a9e-9063-4b04-aa82-3158184edff1"
   },
   "outputs": [],
   "execution_count": null
  },
  {
   "cell_type": "code",
   "source": [
    "print(response.choices[0].message.parsed.model_dump())"
   ],
   "metadata": {
    "colab": {
     "base_uri": "https://localhost:8080/"
    },
    "id": "9-5buSBQPN5x",
    "outputId": "602b2c4f-3f20-43f0-d71f-91e73db79424"
   },
   "outputs": [],
   "execution_count": null
  },
  {
   "cell_type": "markdown",
   "source": [],
   "metadata": {
    "id": "L9PgWLdFYylK"
   }
  },
  {
   "cell_type": "code",
   "source": [
    "from datasets import load_dataset\n",
    "dataset = load_dataset(\"igorktech/anekdots\")"
   ],
   "metadata": {
    "colab": {
     "base_uri": "https://localhost:8080/",
     "height": 235,
     "referenced_widgets": [
      "fd881992fa2e4295a30d9d355bc67df5",
      "a272a73a4ec64073bb84bdf25d91913c",
      "d79859bc95424c7c96adabe0ddd8ffed",
      "d9a6534d4bc84e6b84d632a5cae22f6f",
      "1fe7d20ab442497fa9ffe3d24f67ca66",
      "605cf9bc31ad41afa82eb9f0dd8a2d8b",
      "909aed9d908342a08dc7589258a00dae",
      "e9eb2b669c624f418b1529c8cbb6b3d8",
      "a50549cdb2b543bbb872711454d593cc",
      "b376ca19c7474ec88a604dbfe4f73cd2",
      "0e4a5be3d3d4437db55f0e9d0f15ba9b",
      "f6712ae918fd4c44a6ede0df80e024a6",
      "156f38c134304478ba771793ad3a6829",
      "635ab67607c04abfa43a9bbca8d9a5a3",
      "b88f6476cd10484aa143d03acc9be0d2",
      "0b5fd23dc8b146c8b1952fdaaca18ba1",
      "131ad64d30e94a369c6be7cd00d8cd0c",
      "3468a7df2242450ba85da28a40268a41",
      "d25b14ede192434abe6bb75f79b770e9",
      "6fe6f95e530d4caca6d22ee3d0e0f2cf",
      "90967b246d7f4897a6faf794ee87155d",
      "12659c64ecda4af285f621fbff57711e",
      "bdd9ab6142fc47da9a143463266f733a",
      "fdb1840b4444431d975376f1932da282",
      "fd9da4c298cc4a94b6196be4f2f5de1e",
      "848c32f386044d4bba309a9675bf78ac",
      "95462d388415488ba2749e996ecdc20c",
      "941702e2bd7648d19529acabadfeef70",
      "fae82e4c709047adafde0fafc2c6ec71",
      "3548ac9bf52147a18aa885797fd713f5",
      "aec439ee81614bacb404eacd6630c78b",
      "39767ee447474833b42fd291e91cbfc1",
      "56ba5b72478c41f4b2763d8c628725f8"
     ]
    },
    "id": "uH1I8aSeTfjg",
    "outputId": "b808e4a6-ac56-49e8-86cc-9e65de01a4a7"
   },
   "outputs": [],
   "execution_count": null
  },
  {
   "cell_type": "code",
   "source": [
    "dataset"
   ],
   "metadata": {
    "colab": {
     "base_uri": "https://localhost:8080/"
    },
    "id": "2Jkq7I2ZbMgx",
    "outputId": "c38a5264-01fc-4b6c-bee1-644dfb27f453"
   },
   "outputs": [],
   "execution_count": null
  },
  {
   "cell_type": "code",
   "source": [
    "res = []"
   ],
   "metadata": {
    "id": "-Caan3Kfa74h"
   },
   "outputs": [],
   "execution_count": null
  },
  {
   "cell_type": "code",
   "source": [
    "from tqdm import tqdm\n",
    "for i, row in tqdm(enumerate(dataset['train'])):\n",
    "    inp = row['text']\n",
    "\n",
    "    user_prompt = f\"\"\"Выдели диалог из:\n",
    "{inp}\n",
    "\"\"\"\n",
    "    output = structured_completion_request(client, system_prompt, user_prompt,Dialog).choices[0].message.parsed\n",
    "    print(inp)\n",
    "    print(output.model_dump())\n",
    "    print()\n",
    "    print(\"==============================\")\n",
    "    print()\n",
    "    try:\n",
    "        res.append({\"original\":inp,\"parsed\":output.model_dump()})\n",
    "    except:\n",
    "        print(f\"Error while converting to json in {i} row\")"
   ],
   "metadata": {
    "colab": {
     "base_uri": "https://localhost:8080/",
     "height": 1000
    },
    "id": "pm3h3AOJTwcA",
    "outputId": "d0e29416-b4d2-4001-9c7d-d93ca0925c82"
   },
   "outputs": [],
   "execution_count": null
  },
  {
   "cell_type": "code",
   "source": [
    "from datasets import Dataset\n",
    "Dataset.from_json('./anekdot_dedup_ldr_tok_cleaned.json').to_pandas().to_json('anekdot_ru_result.json', orient='records', lines=True, force_ascii=False)"
   ],
   "metadata": {
    "id": "so1eYeFHTZLz"
   },
   "outputs": [],
   "execution_count": null
  },
  {
   "cell_type": "code",
   "source": [
    "# from datasets import Dataset\n",
    "\n",
    "# # Assuming 'filtered_dialogues' contains the filtered dialogues\n",
    "# data = {\"text\": filtered_dialogues}\n",
    "# dataset = Dataset.from_dict(data)"
   ],
   "metadata": {
    "id": "Hi2MpsU-TbHF"
   },
   "outputs": [],
   "execution_count": null
  },
  {
   "cell_type": "code",
   "source": [
    "# ds_filter = Dataset.from_pandas(df)"
   ],
   "metadata": {
    "id": "iAPHuG70Td2_"
   },
   "outputs": [],
   "execution_count": null
  },
  {
   "cell_type": "code",
   "source": [
    "# dataset.push_to_hub(\"igorktech/r_dialogues\")"
   ],
   "metadata": {
    "id": "pJJsxbKQTVzG"
   },
   "outputs": [],
   "execution_count": null
  },
  {
   "cell_type": "code",
   "source": [
    "import json\n",
    "filename = \"segmented_dialogues.json\"\n",
    "data = {\"segmented\": res}\n",
    "with open(filename, 'w', encoding='utf-8') as json_file:\n",
    "    json.dump(res, json_file, ensure_ascii=False, indent=4)"
   ],
   "metadata": {
    "id": "WimBKlx4Tdaw"
   },
   "outputs": [],
   "execution_count": null
  },
  {
   "cell_type": "code",
   "source": [
    "from google.colab import files\n",
    "\n",
    "files.download(filename)"
   ],
   "metadata": {
    "colab": {
     "base_uri": "https://localhost:8080/",
     "height": 17
    },
    "id": "lp3C9qufUCIP",
    "outputId": "297966a4-1686-49ea-d0e4-6c6970e16a14"
   },
   "outputs": [],
   "execution_count": null
  },
  {
   "metadata": {},
   "cell_type": "code",
   "source": [
    "import llama_cpp\n",
    "from llama_cpp import Llama\n",
    "import instructor\n",
    "\n",
    "from llama_cpp.llama_speculative import LlamaPromptLookupDecoding\n",
    "\n",
    "llama = Llama.from_pretrained(\n",
    "    repo_id=\"NikolayKozloff/Vikhr-Gemma-2B-instruct-Q8_0-GGUF\",#\"QuantFactory/Phi-3.5-mini-instruct-GGUF\",#\"QuantFactory/T-lite-instruct-0.1-GGUF\",\n",
    "    filename=\"vikhr-gemma-2b-instruct-q8_0.gguf\",#\"Phi-3.5-mini-instruct.Q4_0.gguf\",#\"T-lite-instruct-0.1.Q2_K.gguf\",\n",
    "    draft_model=LlamaPromptLookupDecoding(num_pred_tokens=2),\n",
    "    logits_all=True,\n",
    "    n_gpu_layers=-1,\n",
    "    n_ctx=4096,\n",
    "    verbose=False,\n",
    "    chat_format=\"gemma\"\n",
    ")"
   ],
   "outputs": [],
   "execution_count": null
  },
  {
   "metadata": {},
   "cell_type": "code",
   "source": [
    "create = instructor.patch(\n",
    "    create=llama.create_chat_completion_openai_v1,\n",
    "    mode=instructor.Mode.JSON_SCHEMA,\n",
    ")"
   ],
   "outputs": [],
   "execution_count": null
  },
  {
   "metadata": {},
   "cell_type": "code",
   "source": "import time",
   "outputs": [],
   "execution_count": null
  },
  {
   "metadata": {},
   "cell_type": "code",
   "source": [
    "start = time.time()\n",
    "user = create(\n",
    "    messages=[\n",
    "        {\"role\": \"system\", \"content\": system_prompt},\n",
    "        {\n",
    "            \"role\": \"user\",\n",
    "            \"content\": \"\"\"Собирается поручик Ржевский на бал, ну и просит денщика рассказать\n",
    "ему каламбур. Денщик рассказывает: ``Адам Еву прижал к древу.\n",
    "Ева пищит. Древо трещит.`` Приходит поручик на бал и говорит:\n",
    "``Мне недавно рассказали каламбур, дословно я его не запомнил,\n",
    "но суть в следующем. Короче, один мужик трахает бабу в лесу,\n",
    "а она орет. Hо в стихах это было круче, _я вас уверяю_! если бы хуй с маслом``\"\"\",\n",
    "        }\n",
    "    ],\n",
    "    response_model=Dialog,\n",
    ")\n",
    "duration = time.time() - start\n",
    "print(f\"Duration: {duration:.2f}s\")\n",
    "print(user)"
   ],
   "outputs": [],
   "execution_count": null
  },
  {
   "metadata": {},
   "cell_type": "code",
   "source": "res = []",
   "outputs": [],
   "execution_count": null
  },
  {
   "metadata": {},
   "cell_type": "code",
   "source": [
    "from tqdm import tqdm\n",
    "i = 0\n",
    "for row in tqdm(dataset['train']):\n",
    "    inp = row['text']\n",
    "\n",
    "    user_prompt = f\"\"\"Выдели диалог из:\n",
    "{inp}\n",
    "\"\"\"\n",
    "    try:\n",
    "        output =  create(\n",
    "        messages=[\n",
    "            {\"role\": \"system\", \"content\": system_prompt},\n",
    "            {\n",
    "                \"role\": \"user\",\n",
    "                \"content\": user_prompt,\n",
    "            }\n",
    "        ],\n",
    "        response_model=Dialog,\n",
    "        )\n",
    "        print(inp)\n",
    "        print(output.model_dump())\n",
    "        print()\n",
    "        print(\"==============================\")\n",
    "        print()\n",
    "    \n",
    "        res.append({\"original\":inp,\"parsed\":output.model_dump()})\n",
    "    except:\n",
    "        print(f\"Error while converting to json in {i} row\")\n",
    "    i+=1"
   ],
   "outputs": [],
   "execution_count": null
  },
  {
   "metadata": {},
   "cell_type": "code",
   "source": "",
   "outputs": [],
   "execution_count": null
  }
 ]
}
